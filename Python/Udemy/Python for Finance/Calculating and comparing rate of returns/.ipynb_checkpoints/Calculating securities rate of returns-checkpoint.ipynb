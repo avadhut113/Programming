{
 "cells": [
  {
   "cell_type": "code",
   "execution_count": 1,
   "id": "a6bafd4d",
   "metadata": {},
   "outputs": [],
   "source": [
    "import numpy as np"
   ]
  },
  {
   "cell_type": "code",
   "execution_count": 2,
   "id": "fd4394f1",
   "metadata": {},
   "outputs": [],
   "source": [
    "from pandas_datareader import data as wb"
   ]
  },
  {
   "cell_type": "code",
   "execution_count": 3,
   "id": "37a78109",
   "metadata": {},
   "outputs": [],
   "source": [
    "import matplotlib.pyplot as pt"
   ]
  },
  {
   "cell_type": "code",
   "execution_count": 38,
   "id": "f7282b8f",
   "metadata": {},
   "outputs": [],
   "source": [
    "Pg = wb.DataReader('TTML.NS',data_source='yahoo',start='2000-01-01')"
   ]
  },
  {
   "cell_type": "code",
   "execution_count": 39,
   "id": "c5aeda28",
   "metadata": {},
   "outputs": [
    {
     "data": {
      "text/html": [
       "<div>\n",
       "<style scoped>\n",
       "    .dataframe tbody tr th:only-of-type {\n",
       "        vertical-align: middle;\n",
       "    }\n",
       "\n",
       "    .dataframe tbody tr th {\n",
       "        vertical-align: top;\n",
       "    }\n",
       "\n",
       "    .dataframe thead th {\n",
       "        text-align: right;\n",
       "    }\n",
       "</style>\n",
       "<table border=\"1\" class=\"dataframe\">\n",
       "  <thead>\n",
       "    <tr style=\"text-align: right;\">\n",
       "      <th></th>\n",
       "      <th>High</th>\n",
       "      <th>Low</th>\n",
       "      <th>Open</th>\n",
       "      <th>Close</th>\n",
       "      <th>Volume</th>\n",
       "      <th>Adj Close</th>\n",
       "    </tr>\n",
       "    <tr>\n",
       "      <th>Date</th>\n",
       "      <th></th>\n",
       "      <th></th>\n",
       "      <th></th>\n",
       "      <th></th>\n",
       "      <th></th>\n",
       "      <th></th>\n",
       "    </tr>\n",
       "  </thead>\n",
       "  <tbody>\n",
       "    <tr>\n",
       "      <th>2000-10-26</th>\n",
       "      <td>10.732452</td>\n",
       "      <td>8.701988</td>\n",
       "      <td>9.945129</td>\n",
       "      <td>9.613625</td>\n",
       "      <td>2528243.0</td>\n",
       "      <td>9.613625</td>\n",
       "    </tr>\n",
       "    <tr>\n",
       "      <th>2000-10-27</th>\n",
       "      <td>9.945129</td>\n",
       "      <td>9.323558</td>\n",
       "      <td>9.862253</td>\n",
       "      <td>9.530748</td>\n",
       "      <td>1258906.0</td>\n",
       "      <td>9.530748</td>\n",
       "    </tr>\n",
       "    <tr>\n",
       "      <th>2000-10-30</th>\n",
       "      <td>9.613625</td>\n",
       "      <td>8.619112</td>\n",
       "      <td>9.572186</td>\n",
       "      <td>8.909178</td>\n",
       "      <td>945848.0</td>\n",
       "      <td>8.909178</td>\n",
       "    </tr>\n",
       "    <tr>\n",
       "      <th>2000-10-31</th>\n",
       "      <td>8.992054</td>\n",
       "      <td>8.287607</td>\n",
       "      <td>8.743426</td>\n",
       "      <td>8.370483</td>\n",
       "      <td>959473.0</td>\n",
       "      <td>8.370483</td>\n",
       "    </tr>\n",
       "    <tr>\n",
       "      <th>2000-11-01</th>\n",
       "      <td>8.992054</td>\n",
       "      <td>8.329045</td>\n",
       "      <td>8.329045</td>\n",
       "      <td>8.701988</td>\n",
       "      <td>588038.0</td>\n",
       "      <td>8.701988</td>\n",
       "    </tr>\n",
       "    <tr>\n",
       "      <th>...</th>\n",
       "      <td>...</td>\n",
       "      <td>...</td>\n",
       "      <td>...</td>\n",
       "      <td>...</td>\n",
       "      <td>...</td>\n",
       "      <td>...</td>\n",
       "    </tr>\n",
       "    <tr>\n",
       "      <th>2022-01-12</th>\n",
       "      <td>275.649994</td>\n",
       "      <td>275.649994</td>\n",
       "      <td>275.649994</td>\n",
       "      <td>275.649994</td>\n",
       "      <td>2256706.0</td>\n",
       "      <td>275.649994</td>\n",
       "    </tr>\n",
       "    <tr>\n",
       "      <th>2022-01-13</th>\n",
       "      <td>261.899994</td>\n",
       "      <td>261.899994</td>\n",
       "      <td>261.899994</td>\n",
       "      <td>261.899994</td>\n",
       "      <td>550599.0</td>\n",
       "      <td>261.899994</td>\n",
       "    </tr>\n",
       "    <tr>\n",
       "      <th>2022-01-14</th>\n",
       "      <td>248.850006</td>\n",
       "      <td>248.850006</td>\n",
       "      <td>248.850006</td>\n",
       "      <td>248.850006</td>\n",
       "      <td>841536.0</td>\n",
       "      <td>248.850006</td>\n",
       "    </tr>\n",
       "    <tr>\n",
       "      <th>2022-01-17</th>\n",
       "      <td>236.449997</td>\n",
       "      <td>236.449997</td>\n",
       "      <td>236.449997</td>\n",
       "      <td>236.449997</td>\n",
       "      <td>758119.0</td>\n",
       "      <td>236.449997</td>\n",
       "    </tr>\n",
       "    <tr>\n",
       "      <th>2022-01-18</th>\n",
       "      <td>224.649994</td>\n",
       "      <td>224.649994</td>\n",
       "      <td>224.649994</td>\n",
       "      <td>224.649994</td>\n",
       "      <td>518113.0</td>\n",
       "      <td>224.649994</td>\n",
       "    </tr>\n",
       "  </tbody>\n",
       "</table>\n",
       "<p>5299 rows × 6 columns</p>\n",
       "</div>"
      ],
      "text/plain": [
       "                  High         Low        Open       Close     Volume  \\\n",
       "Date                                                                    \n",
       "2000-10-26   10.732452    8.701988    9.945129    9.613625  2528243.0   \n",
       "2000-10-27    9.945129    9.323558    9.862253    9.530748  1258906.0   \n",
       "2000-10-30    9.613625    8.619112    9.572186    8.909178   945848.0   \n",
       "2000-10-31    8.992054    8.287607    8.743426    8.370483   959473.0   \n",
       "2000-11-01    8.992054    8.329045    8.329045    8.701988   588038.0   \n",
       "...                ...         ...         ...         ...        ...   \n",
       "2022-01-12  275.649994  275.649994  275.649994  275.649994  2256706.0   \n",
       "2022-01-13  261.899994  261.899994  261.899994  261.899994   550599.0   \n",
       "2022-01-14  248.850006  248.850006  248.850006  248.850006   841536.0   \n",
       "2022-01-17  236.449997  236.449997  236.449997  236.449997   758119.0   \n",
       "2022-01-18  224.649994  224.649994  224.649994  224.649994   518113.0   \n",
       "\n",
       "             Adj Close  \n",
       "Date                    \n",
       "2000-10-26    9.613625  \n",
       "2000-10-27    9.530748  \n",
       "2000-10-30    8.909178  \n",
       "2000-10-31    8.370483  \n",
       "2000-11-01    8.701988  \n",
       "...                ...  \n",
       "2022-01-12  275.649994  \n",
       "2022-01-13  261.899994  \n",
       "2022-01-14  248.850006  \n",
       "2022-01-17  236.449997  \n",
       "2022-01-18  224.649994  \n",
       "\n",
       "[5299 rows x 6 columns]"
      ]
     },
     "execution_count": 39,
     "metadata": {},
     "output_type": "execute_result"
    }
   ],
   "source": [
    "Pg"
   ]
  },
  {
   "cell_type": "code",
   "execution_count": 48,
   "id": "53bd9b36",
   "metadata": {},
   "outputs": [],
   "source": [
    "Pg['simple_returns'] = (Pg['Adj Close'] / Pg['Adj Close'].shift(1)) - 1"
   ]
  },
  {
   "cell_type": "code",
   "execution_count": 49,
   "id": "f273cbe7",
   "metadata": {},
   "outputs": [
    {
     "name": "stdout",
     "output_type": "stream",
     "text": [
      "Date\n",
      "2000-10-26         NaN\n",
      "2000-10-27   -0.008621\n",
      "2000-10-30   -0.065217\n",
      "2000-10-31   -0.060465\n",
      "2000-11-01    0.039604\n",
      "                ...   \n",
      "2022-01-12   -0.049974\n",
      "2022-01-13   -0.049882\n",
      "2022-01-14   -0.049828\n",
      "2022-01-17   -0.049829\n",
      "2022-01-18   -0.049905\n",
      "Name: simple_returns, Length: 5299, dtype: float64\n"
     ]
    }
   ],
   "source": [
    "print(Pg['simple_returns'])"
   ]
  },
  {
   "cell_type": "code",
   "execution_count": 50,
   "id": "986c53a6",
   "metadata": {},
   "outputs": [
    {
     "data": {
      "text/plain": [
       "<AxesSubplot:xlabel='Date'>"
      ]
     },
     "execution_count": 50,
     "metadata": {},
     "output_type": "execute_result"
    },
    {
     "data": {
      "image/png": "[encoded data removed]",
      "text/plain": [
       "<Figure size 576x360 with 1 Axes>"
      ]
     },
     "metadata": {
      "needs_background": "light"
     },
     "output_type": "display_data"
    }
   ],
   "source": [
    "Pg['simple_returns'].plot(figsize=(8,5))"
   ]
  },
  {
   "cell_type": "code",
   "execution_count": 51,
   "id": "e959f199",
   "metadata": {},
   "outputs": [],
   "source": [
    "Avg_Ret_Day = Pg['simple_returns'].mean()"
   ]
  },
  {
   "cell_type": "code",
   "execution_count": 52,
   "id": "83ef3658",
   "metadata": {},
   "outputs": [
    {
     "data": {
      "text/plain": [
       "0.0011596091060524778"
      ]
     },
     "execution_count": 52,
     "metadata": {},
     "output_type": "execute_result"
    }
   ],
   "source": [
    "Avg_Ret_Day"
   ]
  },
  {
   "cell_type": "code",
   "execution_count": 54,
   "id": "b177df50",
   "metadata": {},
   "outputs": [],
   "source": [
    "Avg_Ret_Day = Avg_Ret_Day * 250"
   ]
  },
  {
   "cell_type": "code",
   "execution_count": 55,
   "id": "7fc0870c",
   "metadata": {},
   "outputs": [
    {
     "name": "stdout",
     "output_type": "stream",
     "text": [
      "28.99%\n"
     ]
    }
   ],
   "source": [
    "print(str(round(Avg_Ret_Day,5)*100) + '%')"
   ]
  },
  {
   "cell_type": "code",
   "execution_count": null,
   "id": "023aeb28",
   "metadata": {},
   "outputs": [],
   "source": []
  }
 ],
 "metadata": {
  "kernelspec": {
   "display_name": "Python 3 (ipykernel)",
   "language": "python",
   "name": "python3"
  },
  "language_info": {
   "codemirror_mode": {
    "name": "ipython",
    "version": 3
   },
   "file_extension": ".py",
   "mimetype": "text/x-python",
   "name": "python",
   "nbconvert_exporter": "python",
   "pygments_lexer": "ipython3",
   "version": "3.9.7"
  }
 },
 "nbformat": 4,
 "nbformat_minor": 5
}
