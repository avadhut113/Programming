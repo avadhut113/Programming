{
 "cells": [
  {
   "cell_type": "code",
   "execution_count": 1,
   "id": "746d80da",
   "metadata": {},
   "outputs": [],
   "source": [
    "import numpy as np\n",
    "import pandas as pd\n",
    "from pandas_datareader import data as wb\n",
    "import matplotlib.pyplot as plt"
   ]
  },
  {
   "cell_type": "code",
   "execution_count": 14,
   "id": "5d9c0cef",
   "metadata": {},
   "outputs": [],
   "source": [
    "ticker = ['^GSPC','^IXIC','^NSEI','^BSESN']\n",
    "\n",
    "index_data = pd.DataFrame()\n",
    "\n",
    "for t in ticker :\n",
    "    index_data[t] = wb.DataReader(t,data_source='yahoo',start='2011-01-01')['Adj Close']"
   ]
  },
  {
   "cell_type": "code",
   "execution_count": 16,
   "id": "2e745954",
   "metadata": {},
   "outputs": [
    {
     "data": {
      "text/html": [
       "<div>\n",
       "<style scoped>\n",
       "    .dataframe tbody tr th:only-of-type {\n",
       "        vertical-align: middle;\n",
       "    }\n",
       "\n",
       "    .dataframe tbody tr th {\n",
       "        vertical-align: top;\n",
       "    }\n",
       "\n",
       "    .dataframe thead th {\n",
       "        text-align: right;\n",
       "    }\n",
       "</style>\n",
       "<table border=\"1\" class=\"dataframe\">\n",
       "  <thead>\n",
       "    <tr style=\"text-align: right;\">\n",
       "      <th></th>\n",
       "      <th>^GSPC</th>\n",
       "      <th>^IXIC</th>\n",
       "      <th>^NSEI</th>\n",
       "      <th>^BSESN</th>\n",
       "    </tr>\n",
       "    <tr>\n",
       "      <th>Date</th>\n",
       "      <th></th>\n",
       "      <th></th>\n",
       "      <th></th>\n",
       "      <th></th>\n",
       "    </tr>\n",
       "  </thead>\n",
       "  <tbody>\n",
       "    <tr>\n",
       "      <th>2010-12-31</th>\n",
       "      <td>1257.640015</td>\n",
       "      <td>2652.870117</td>\n",
       "      <td>NaN</td>\n",
       "      <td>NaN</td>\n",
       "    </tr>\n",
       "    <tr>\n",
       "      <th>2011-01-03</th>\n",
       "      <td>1271.869995</td>\n",
       "      <td>2691.520020</td>\n",
       "      <td>6157.600098</td>\n",
       "      <td>20561.050781</td>\n",
       "    </tr>\n",
       "    <tr>\n",
       "      <th>2011-01-04</th>\n",
       "      <td>1270.199951</td>\n",
       "      <td>2681.250000</td>\n",
       "      <td>6146.350098</td>\n",
       "      <td>20498.720703</td>\n",
       "    </tr>\n",
       "    <tr>\n",
       "      <th>2011-01-05</th>\n",
       "      <td>1276.560059</td>\n",
       "      <td>2702.199951</td>\n",
       "      <td>6079.799805</td>\n",
       "      <td>20301.099609</td>\n",
       "    </tr>\n",
       "    <tr>\n",
       "      <th>2011-01-06</th>\n",
       "      <td>1273.849976</td>\n",
       "      <td>2709.889893</td>\n",
       "      <td>6048.250000</td>\n",
       "      <td>20184.740234</td>\n",
       "    </tr>\n",
       "    <tr>\n",
       "      <th>...</th>\n",
       "      <td>...</td>\n",
       "      <td>...</td>\n",
       "      <td>...</td>\n",
       "      <td>...</td>\n",
       "    </tr>\n",
       "    <tr>\n",
       "      <th>2022-01-11</th>\n",
       "      <td>4713.069824</td>\n",
       "      <td>15153.450195</td>\n",
       "      <td>18055.750000</td>\n",
       "      <td>60616.890625</td>\n",
       "    </tr>\n",
       "    <tr>\n",
       "      <th>2022-01-12</th>\n",
       "      <td>4726.350098</td>\n",
       "      <td>15188.389648</td>\n",
       "      <td>18212.349609</td>\n",
       "      <td>61150.039062</td>\n",
       "    </tr>\n",
       "    <tr>\n",
       "      <th>2022-01-13</th>\n",
       "      <td>4659.029785</td>\n",
       "      <td>14806.809570</td>\n",
       "      <td>18257.800781</td>\n",
       "      <td>61235.300781</td>\n",
       "    </tr>\n",
       "    <tr>\n",
       "      <th>2022-01-14</th>\n",
       "      <td>4662.850098</td>\n",
       "      <td>14893.750000</td>\n",
       "      <td>18255.750000</td>\n",
       "      <td>61223.031250</td>\n",
       "    </tr>\n",
       "    <tr>\n",
       "      <th>2022-01-18</th>\n",
       "      <td>4580.540039</td>\n",
       "      <td>14556.094727</td>\n",
       "      <td>18113.050781</td>\n",
       "      <td>60754.859375</td>\n",
       "    </tr>\n",
       "  </tbody>\n",
       "</table>\n",
       "<p>2781 rows × 4 columns</p>\n",
       "</div>"
      ],
      "text/plain": [
       "                  ^GSPC         ^IXIC         ^NSEI        ^BSESN\n",
       "Date                                                             \n",
       "2010-12-31  1257.640015   2652.870117           NaN           NaN\n",
       "2011-01-03  1271.869995   2691.520020   6157.600098  20561.050781\n",
       "2011-01-04  1270.199951   2681.250000   6146.350098  20498.720703\n",
       "2011-01-05  1276.560059   2702.199951   6079.799805  20301.099609\n",
       "2011-01-06  1273.849976   2709.889893   6048.250000  20184.740234\n",
       "...                 ...           ...           ...           ...\n",
       "2022-01-11  4713.069824  15153.450195  18055.750000  60616.890625\n",
       "2022-01-12  4726.350098  15188.389648  18212.349609  61150.039062\n",
       "2022-01-13  4659.029785  14806.809570  18257.800781  61235.300781\n",
       "2022-01-14  4662.850098  14893.750000  18255.750000  61223.031250\n",
       "2022-01-18  4580.540039  14556.094727  18113.050781  60754.859375\n",
       "\n",
       "[2781 rows x 4 columns]"
      ]
     },
     "execution_count": 16,
     "metadata": {},
     "output_type": "execute_result"
    }
   ],
   "source": [
    "index_data"
   ]
  },
  {
   "cell_type": "code",
   "execution_count": 11,
   "id": "f057dd51",
   "metadata": {},
   "outputs": [
    {
     "data": {
      "text/plain": [
       "<AxesSubplot:xlabel='Date'>"
      ]
     },
     "execution_count": 11,
     "metadata": {},
     "output_type": "execute_result"
    },
    {
     "data": {
      "image/png": "[encoded data removed]",
      "text/plain": [
       "<Figure size 1080x432 with 1 Axes>"
      ]
     },
     "metadata": {
      "needs_background": "light"
     },
     "output_type": "display_data"
    }
   ],
   "source": [
    "(index_data / index_data.iloc[0] * 100).plot(figsize=(15,6))"
   ]
  },
  {
   "cell_type": "code",
   "execution_count": null,
   "id": "24608de5",
   "metadata": {},
   "outputs": [],
   "source": []
  },
  {
   "cell_type": "code",
   "execution_count": null,
   "id": "b863bd0a",
   "metadata": {},
   "outputs": [],
   "source": []
  }
 ],
 "metadata": {
  "kernelspec": {
   "display_name": "Python 3 (ipykernel)",
   "language": "python",
   "name": "python3"
  },
  "language_info": {
   "codemirror_mode": {
    "name": "ipython",
    "version": 3
   },
   "file_extension": ".py",
   "mimetype": "text/x-python",
   "name": "python",
   "nbconvert_exporter": "python",
   "pygments_lexer": "ipython3",
   "version": "3.9.7"
  }
 },
 "nbformat": 4,
 "nbformat_minor": 5
}
