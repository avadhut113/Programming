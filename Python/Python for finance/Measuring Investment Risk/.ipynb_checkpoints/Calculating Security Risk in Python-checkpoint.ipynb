{
 "cells": [
  {
   "cell_type": "code",
   "execution_count": 1,
   "id": "08a82383",
   "metadata": {},
   "outputs": [],
   "source": [
    "import numpy as np\n",
    "import pandas as pd\n",
    "from pandas_datareader import data as wb\n",
    "import matplotlib.pyplot as plt"
   ]
  },
  {
   "cell_type": "code",
   "execution_count": 4,
   "id": "06bfff9d",
   "metadata": {},
   "outputs": [],
   "source": [
    "ticker = ['TTML.BO','TCS.BO','TANLA.BO']\n",
    "\n",
    "data = pd.DataFrame()\n",
    "\n",
    "for t in ticker:\n",
    "    data[t] = wb.DataReader(t, data_source = 'yahoo', start='2011-01-01')['Adj Close']"
   ]
  },
  {
   "cell_type": "code",
   "execution_count": 5,
   "id": "5d53e7d3",
   "metadata": {},
   "outputs": [
    {
     "data": {
      "text/html": [
       "<div>\n",
       "<style scoped>\n",
       "    .dataframe tbody tr th:only-of-type {\n",
       "        vertical-align: middle;\n",
       "    }\n",
       "\n",
       "    .dataframe tbody tr th {\n",
       "        vertical-align: top;\n",
       "    }\n",
       "\n",
       "    .dataframe thead th {\n",
       "        text-align: right;\n",
       "    }\n",
       "</style>\n",
       "<table border=\"1\" class=\"dataframe\">\n",
       "  <thead>\n",
       "    <tr style=\"text-align: right;\">\n",
       "      <th></th>\n",
       "      <th>TTML.BO</th>\n",
       "      <th>TCS.BO</th>\n",
       "      <th>TANLA.BO</th>\n",
       "    </tr>\n",
       "    <tr>\n",
       "      <th>Date</th>\n",
       "      <th></th>\n",
       "      <th></th>\n",
       "      <th></th>\n",
       "    </tr>\n",
       "  </thead>\n",
       "  <tbody>\n",
       "    <tr>\n",
       "      <th>2011-01-03</th>\n",
       "      <td>16.844614</td>\n",
       "      <td>470.807465</td>\n",
       "      <td>21.361530</td>\n",
       "    </tr>\n",
       "    <tr>\n",
       "      <th>2011-01-04</th>\n",
       "      <td>17.013483</td>\n",
       "      <td>464.392273</td>\n",
       "      <td>21.409000</td>\n",
       "    </tr>\n",
       "    <tr>\n",
       "      <th>2011-01-05</th>\n",
       "      <td>16.717962</td>\n",
       "      <td>464.392273</td>\n",
       "      <td>20.886829</td>\n",
       "    </tr>\n",
       "    <tr>\n",
       "      <th>2011-01-06</th>\n",
       "      <td>16.464661</td>\n",
       "      <td>476.755585</td>\n",
       "      <td>20.412127</td>\n",
       "    </tr>\n",
       "    <tr>\n",
       "      <th>2011-01-07</th>\n",
       "      <td>16.084707</td>\n",
       "      <td>463.519287</td>\n",
       "      <td>19.984898</td>\n",
       "    </tr>\n",
       "    <tr>\n",
       "      <th>...</th>\n",
       "      <td>...</td>\n",
       "      <td>...</td>\n",
       "      <td>...</td>\n",
       "    </tr>\n",
       "    <tr>\n",
       "      <th>2022-01-17</th>\n",
       "      <td>237.149994</td>\n",
       "      <td>4012.049561</td>\n",
       "      <td>1957.199951</td>\n",
       "    </tr>\n",
       "    <tr>\n",
       "      <th>2022-01-18</th>\n",
       "      <td>225.300003</td>\n",
       "      <td>3983.250000</td>\n",
       "      <td>1874.500000</td>\n",
       "    </tr>\n",
       "    <tr>\n",
       "      <th>2022-01-19</th>\n",
       "      <td>214.050003</td>\n",
       "      <td>3915.800049</td>\n",
       "      <td>1841.150024</td>\n",
       "    </tr>\n",
       "    <tr>\n",
       "      <th>2022-01-20</th>\n",
       "      <td>203.350006</td>\n",
       "      <td>3827.850098</td>\n",
       "      <td>1908.349976</td>\n",
       "    </tr>\n",
       "    <tr>\n",
       "      <th>2022-01-21</th>\n",
       "      <td>193.199997</td>\n",
       "      <td>3834.850098</td>\n",
       "      <td>1874.699951</td>\n",
       "    </tr>\n",
       "  </tbody>\n",
       "</table>\n",
       "<p>2726 rows × 3 columns</p>\n",
       "</div>"
      ],
      "text/plain": [
       "               TTML.BO       TCS.BO     TANLA.BO\n",
       "Date                                            \n",
       "2011-01-03   16.844614   470.807465    21.361530\n",
       "2011-01-04   17.013483   464.392273    21.409000\n",
       "2011-01-05   16.717962   464.392273    20.886829\n",
       "2011-01-06   16.464661   476.755585    20.412127\n",
       "2011-01-07   16.084707   463.519287    19.984898\n",
       "...                ...          ...          ...\n",
       "2022-01-17  237.149994  4012.049561  1957.199951\n",
       "2022-01-18  225.300003  3983.250000  1874.500000\n",
       "2022-01-19  214.050003  3915.800049  1841.150024\n",
       "2022-01-20  203.350006  3827.850098  1908.349976\n",
       "2022-01-21  193.199997  3834.850098  1874.699951\n",
       "\n",
       "[2726 rows x 3 columns]"
      ]
     },
     "execution_count": 5,
     "metadata": {},
     "output_type": "execute_result"
    }
   ],
   "source": [
    "data"
   ]
  },
  {
   "cell_type": "code",
   "execution_count": 6,
   "id": "99701733",
   "metadata": {},
   "outputs": [],
   "source": [
    " returns = np.log(data/data.shift(1))"
   ]
  },
  {
   "cell_type": "code",
   "execution_count": 7,
   "id": "d66570fc",
   "metadata": {},
   "outputs": [
    {
     "data": {
      "text/html": [
       "<div>\n",
       "<style scoped>\n",
       "    .dataframe tbody tr th:only-of-type {\n",
       "        vertical-align: middle;\n",
       "    }\n",
       "\n",
       "    .dataframe tbody tr th {\n",
       "        vertical-align: top;\n",
       "    }\n",
       "\n",
       "    .dataframe thead th {\n",
       "        text-align: right;\n",
       "    }\n",
       "</style>\n",
       "<table border=\"1\" class=\"dataframe\">\n",
       "  <thead>\n",
       "    <tr style=\"text-align: right;\">\n",
       "      <th></th>\n",
       "      <th>TTML.BO</th>\n",
       "      <th>TCS.BO</th>\n",
       "      <th>TANLA.BO</th>\n",
       "    </tr>\n",
       "    <tr>\n",
       "      <th>Date</th>\n",
       "      <th></th>\n",
       "      <th></th>\n",
       "      <th></th>\n",
       "    </tr>\n",
       "  </thead>\n",
       "  <tbody>\n",
       "    <tr>\n",
       "      <th>2011-01-03</th>\n",
       "      <td>NaN</td>\n",
       "      <td>NaN</td>\n",
       "      <td>NaN</td>\n",
       "    </tr>\n",
       "    <tr>\n",
       "      <th>2011-01-04</th>\n",
       "      <td>0.009975</td>\n",
       "      <td>-0.013720</td>\n",
       "      <td>0.002220</td>\n",
       "    </tr>\n",
       "    <tr>\n",
       "      <th>2011-01-05</th>\n",
       "      <td>-0.017522</td>\n",
       "      <td>0.000000</td>\n",
       "      <td>-0.024693</td>\n",
       "    </tr>\n",
       "    <tr>\n",
       "      <th>2011-01-06</th>\n",
       "      <td>-0.015267</td>\n",
       "      <td>0.026274</td>\n",
       "      <td>-0.022990</td>\n",
       "    </tr>\n",
       "    <tr>\n",
       "      <th>2011-01-07</th>\n",
       "      <td>-0.023347</td>\n",
       "      <td>-0.028156</td>\n",
       "      <td>-0.021152</td>\n",
       "    </tr>\n",
       "    <tr>\n",
       "      <th>...</th>\n",
       "      <td>...</td>\n",
       "      <td>...</td>\n",
       "      <td>...</td>\n",
       "    </tr>\n",
       "    <tr>\n",
       "      <th>2022-01-17</th>\n",
       "      <td>-0.051167</td>\n",
       "      <td>0.012481</td>\n",
       "      <td>-0.051288</td>\n",
       "    </tr>\n",
       "    <tr>\n",
       "      <th>2022-01-18</th>\n",
       "      <td>-0.051260</td>\n",
       "      <td>-0.007204</td>\n",
       "      <td>-0.043173</td>\n",
       "    </tr>\n",
       "    <tr>\n",
       "      <th>2022-01-19</th>\n",
       "      <td>-0.051223</td>\n",
       "      <td>-0.017078</td>\n",
       "      <td>-0.017952</td>\n",
       "    </tr>\n",
       "    <tr>\n",
       "      <th>2022-01-20</th>\n",
       "      <td>-0.051281</td>\n",
       "      <td>-0.022716</td>\n",
       "      <td>0.035849</td>\n",
       "    </tr>\n",
       "    <tr>\n",
       "      <th>2022-01-21</th>\n",
       "      <td>-0.051203</td>\n",
       "      <td>0.001827</td>\n",
       "      <td>-0.017790</td>\n",
       "    </tr>\n",
       "  </tbody>\n",
       "</table>\n",
       "<p>2726 rows × 3 columns</p>\n",
       "</div>"
      ],
      "text/plain": [
       "             TTML.BO    TCS.BO  TANLA.BO\n",
       "Date                                    \n",
       "2011-01-03       NaN       NaN       NaN\n",
       "2011-01-04  0.009975 -0.013720  0.002220\n",
       "2011-01-05 -0.017522  0.000000 -0.024693\n",
       "2011-01-06 -0.015267  0.026274 -0.022990\n",
       "2011-01-07 -0.023347 -0.028156 -0.021152\n",
       "...              ...       ...       ...\n",
       "2022-01-17 -0.051167  0.012481 -0.051288\n",
       "2022-01-18 -0.051260 -0.007204 -0.043173\n",
       "2022-01-19 -0.051223 -0.017078 -0.017952\n",
       "2022-01-20 -0.051281 -0.022716  0.035849\n",
       "2022-01-21 -0.051203  0.001827 -0.017790\n",
       "\n",
       "[2726 rows x 3 columns]"
      ]
     },
     "execution_count": 7,
     "metadata": {},
     "output_type": "execute_result"
    }
   ],
   "source": [
    "returns"
   ]
  },
  {
   "cell_type": "code",
   "execution_count": 10,
   "id": "f5024899",
   "metadata": {},
   "outputs": [
    {
     "data": {
      "text/plain": [
       "11.935701644866676"
      ]
     },
     "execution_count": 10,
     "metadata": {},
     "output_type": "execute_result"
    }
   ],
   "source": [
    "data['TTML.BO'].mean()"
   ]
  },
  {
   "cell_type": "code",
   "execution_count": 11,
   "id": "16b42f4d",
   "metadata": {},
   "outputs": [
    {
     "data": {
      "text/plain": [
       "2983.925411216669"
      ]
     },
     "execution_count": 11,
     "metadata": {},
     "output_type": "execute_result"
    }
   ],
   "source": [
    "data['TTML.BO'].mean() * 250"
   ]
  },
  {
   "cell_type": "code",
   "execution_count": 12,
   "id": "4425d23f",
   "metadata": {},
   "outputs": [
    {
     "data": {
      "text/plain": [
       "24.16227064374961"
      ]
     },
     "execution_count": 12,
     "metadata": {},
     "output_type": "execute_result"
    }
   ],
   "source": [
    "data['TTML.BO'].std()"
   ]
  },
  {
   "cell_type": "code",
   "execution_count": 13,
   "id": "e0b15053",
   "metadata": {},
   "outputs": [
    {
     "data": {
      "text/plain": [
       "382.0390433783582"
      ]
     },
     "execution_count": 13,
     "metadata": {},
     "output_type": "execute_result"
    }
   ],
   "source": [
    "data['TTML.BO'].std() * 250 ** 0.5"
   ]
  },
  {
   "cell_type": "code",
   "execution_count": 14,
   "id": "1464b2db",
   "metadata": {},
   "outputs": [
    {
     "data": {
      "text/plain": [
       "TTML.BO      24.162271\n",
       "TCS.BO      853.959393\n",
       "TANLA.BO    326.243537\n",
       "dtype: float64"
      ]
     },
     "execution_count": 14,
     "metadata": {},
     "output_type": "execute_result"
    }
   ],
   "source": [
    "data[['TTML.BO','TCS.BO','TANLA.BO']].std()"
   ]
  },
  {
   "cell_type": "code",
   "execution_count": 15,
   "id": "9f87ffe4",
   "metadata": {},
   "outputs": [
    {
     "data": {
      "text/plain": [
       "TTML.BO       382.039043\n",
       "TCS.BO      13502.283559\n",
       "TANLA.BO     5158.363251\n",
       "dtype: float64"
      ]
     },
     "execution_count": 15,
     "metadata": {},
     "output_type": "execute_result"
    }
   ],
   "source": [
    "data[['TTML.BO','TCS.BO','TANLA.BO']].std() * 250 ** 0.5"
   ]
  },
  {
   "cell_type": "code",
   "execution_count": null,
   "id": "8ad35a8d",
   "metadata": {},
   "outputs": [],
   "source": []
  }
 ],
 "metadata": {
  "kernelspec": {
   "display_name": "Python 3 (ipykernel)",
   "language": "python",
   "name": "python3"
  },
  "language_info": {
   "codemirror_mode": {
    "name": "ipython",
    "version": 3
   },
   "file_extension": ".py",
   "mimetype": "text/x-python",
   "name": "python",
   "nbconvert_exporter": "python",
   "pygments_lexer": "ipython3",
   "version": "3.9.7"
  }
 },
 "nbformat": 4,
 "nbformat_minor": 5
}
