{
 "cells": [
  {
   "cell_type": "code",
   "execution_count": 18,
   "id": "6fd80012",
   "metadata": {},
   "outputs": [],
   "source": [
    "import pandas as pd"
   ]
  },
  {
   "cell_type": "code",
   "execution_count": 30,
   "id": "c5d8edcf",
   "metadata": {},
   "outputs": [],
   "source": [
    "data = {\n",
    "    \"Name\":['Amy White', 'Jack Stewart', 'Richard Lauderdale', 'Sara Johnson'], \n",
    "    \"Age\":[50, 53, 35, 43], \n",
    "    \"Working Experience (Yrs.)\":[5,8,3,10]}"
   ]
  },
  {
   "cell_type": "code",
   "execution_count": 32,
   "id": "e320e889",
   "metadata": {},
   "outputs": [],
   "source": [
    "df = pd.DataFrame(data).shift()[1:]"
   ]
  },
  {
   "cell_type": "code",
   "execution_count": 33,
   "id": "3a6e1ae3",
   "metadata": {},
   "outputs": [
    {
     "name": "stdout",
     "output_type": "stream",
     "text": [
      "                 Name   Age  Working Experience (Yrs.)\n",
      "1           Amy White  50.0                        5.0\n",
      "2        Jack Stewart  53.0                        8.0\n",
      "3  Richard Lauderdale  35.0                        3.0\n"
     ]
    }
   ],
   "source": [
    "# Print the data\n",
    "print(df)"
   ]
  },
  {
   "cell_type": "code",
   "execution_count": null,
   "id": "fd3fa8e0",
   "metadata": {},
   "outputs": [],
   "source": []
  }
 ],
 "metadata": {
  "kernelspec": {
   "display_name": "Python 3 (ipykernel)",
   "language": "python",
   "name": "python3"
  },
  "language_info": {
   "codemirror_mode": {
    "name": "ipython",
    "version": 3
   },
   "file_extension": ".py",
   "mimetype": "text/x-python",
   "name": "python",
   "nbconvert_exporter": "python",
   "pygments_lexer": "ipython3",
   "version": "3.9.7"
  }
 },
 "nbformat": 4,
 "nbformat_minor": 5
}
